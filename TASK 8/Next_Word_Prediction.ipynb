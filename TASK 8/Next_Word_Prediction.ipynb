{
 "cells": [
  {
   "cell_type": "markdown",
   "metadata": {},
   "source": [
    "# Task 8-Next Word Prediction"
   ]
  },
  {
   "cell_type": "markdown",
   "metadata": {},
   "source": [
    "## Dataset Link- https://drive.google.com/file/d/1GeUzNVqiixXHnTl8oNiQ2W3CynX_lsu2/view"
   ]
  },
  {
   "cell_type": "markdown",
   "metadata": {},
   "source": [
    "# Importing packages"
   ]
  },
  {
   "cell_type": "code",
   "execution_count": 1,
   "metadata": {
    "id": "HCV7f8THJIdw"
   },
   "outputs": [],
   "source": [
    "import numpy as np\n",
    "np.random.seed(42)\n",
    "import tensorflow as tf\n",
    "tf.random.set_seed(42)\n",
    " \n",
    "from tensorflow.keras.models import Sequential, load_model\n",
    "from tensorflow.keras.layers import Dense, Activation\n",
    "from tensorflow.keras.layers import LSTM, Dropout\n",
    "from tensorflow.keras.layers import TimeDistributed\n",
    "from tensorflow.keras.layers import Dense, Activation, Dropout, RepeatVector\n",
    "from tensorflow.keras.optimizers import  RMSprop\n",
    "import matplotlib.pyplot as plt\n",
    "import pickle\n",
    "import heapq\n",
    "import warnings \n",
    "warnings.filterwarnings('ignore')"
   ]
  },
  {
   "cell_type": "code",
   "execution_count": 2,
   "metadata": {
    "colab": {
     "base_uri": "https://localhost:8080/"
    },
    "id": "BfB6ldLMJ-iE",
    "outputId": "d055c437-1620-4daf-8fc9-710390581874"
   },
   "outputs": [
    {
     "name": "stdout",
     "output_type": "stream",
     "text": [
      "corpus length: 581888\n"
     ]
    }
   ],
   "source": [
    "#Loading the data\n",
    "path = '1661-0.txt'\n",
    "text = open(path,encoding = \"utf8\").read().lower()\n",
    "print('corpus length:', len(text))"
   ]
  },
  {
   "cell_type": "code",
   "execution_count": 3,
   "metadata": {
    "colab": {
     "base_uri": "https://localhost:8080/"
    },
    "id": "nAtMInpKKh3x",
    "outputId": "e3ac59ae-aa6f-4480-e033-a08fed447a71"
   },
   "outputs": [
    {
     "name": "stdout",
     "output_type": "stream",
     "text": [
      "unique chars: 73\n"
     ]
    }
   ],
   "source": [
    "#Data Preprocessing\n",
    "character = sorted(list(set(text)))\n",
    "char_indices = dict((c, i) for i, c in enumerate(character))\n",
    "indices_char = dict((i, c) for i, c in enumerate(character))\n",
    " \n",
    "print(f'unique chars: {len(character)}')"
   ]
  },
  {
   "cell_type": "code",
   "execution_count": 4,
   "metadata": {
    "colab": {
     "base_uri": "https://localhost:8080/"
    },
    "id": "gbc6kCYOKmgK",
    "outputId": "4acf1d17-e1a0-4105-889c-0ae4cb456cf6"
   },
   "outputs": [
    {
     "name": "stdout",
     "output_type": "stream",
     "text": [
      "num training examples: 193950\n"
     ]
    }
   ],
   "source": [
    "#chunk 40 characters with 3 sequences\n",
    "seq_len = 40\n",
    "step = 3\n",
    "sentences = []\n",
    "next_chars = []\n",
    "for i in range(0, len(text) - seq_len, step):\n",
    "    sentences.append(text[i: i + seq_len ])\n",
    "    next_chars.append(text[i + seq_len])\n",
    "print(f'num training examples: {len(sentences)}')"
   ]
  },
  {
   "cell_type": "code",
   "execution_count": 5,
   "metadata": {
    "colab": {
     "base_uri": "https://localhost:8080/",
     "height": 165
    },
    "id": "GWTdMVuJKoop",
    "outputId": "94ff48ec-885c-4863-ecd0-f78d523976b3"
   },
   "outputs": [
    {
     "data": {
      "text/plain": [
       "'e'"
      ]
     },
     "execution_count": 5,
     "metadata": {},
     "output_type": "execute_result"
    }
   ],
   "source": [
    "# generating our features and labels\n",
    "#one hot encoding\n",
    "X = np.zeros((len(sentences), seq_len, len(character)), dtype=np.bool)\n",
    "y = np.zeros((len(sentences), len(character)), dtype=np.bool)\n",
    "for i, sentence in enumerate(sentences):\n",
    "    for t, char in enumerate(sentence):\n",
    "        X[i, t, char_indices[char]] = 1\n",
    "    y[i, char_indices[next_chars[i]]] = 1\n",
    "\n",
    "sentences[124]\n",
    "next_chars[100]"
   ]
  },
  {
   "cell_type": "code",
   "execution_count": 6,
   "metadata": {
    "colab": {
     "base_uri": "https://localhost:8080/"
    },
    "id": "BAIB8hsuKuxp",
    "outputId": "e52b59d8-7dcf-4864-e68f-4b22e14bba2d"
   },
   "outputs": [
    {
     "data": {
      "text/plain": [
       "array([False, False, False, False, False, False, False, False, False,\n",
       "       False, False, False, False, False, False, False, False, False,\n",
       "       False, False, False, False, False, False, False, False, False,\n",
       "       False, False, False, False, False, False, False, False, False,\n",
       "       False, False, False, False, False, False, False, False, False,\n",
       "       False, False, False, False, False, False, False, False, False,\n",
       "       False, False, False, False, False, False, False, False, False,\n",
       "       False, False, False, False, False, False, False, False, False,\n",
       "        True])"
      ]
     },
     "execution_count": 6,
     "metadata": {},
     "output_type": "execute_result"
    }
   ],
   "source": [
    "#one hot encoded data\n",
    "X[0][0]"
   ]
  },
  {
   "cell_type": "code",
   "execution_count": 7,
   "metadata": {
    "colab": {
     "base_uri": "https://localhost:8080/"
    },
    "id": "slxg3B0oKx1N",
    "outputId": "926b06fa-1f9b-46d2-bb94-2ad54168729d"
   },
   "outputs": [
    {
     "data": {
      "text/plain": [
       "array([False, False, False, False, False, False, False, False, False,\n",
       "       False, False, False, False, False, False, False, False, False,\n",
       "       False, False, False, False, False, False, False, False, False,\n",
       "       False, False, False, False, False, False, False, False, False,\n",
       "       False, False, False, False, False, False, False, False, False,\n",
       "       False, False, False, False, False, False,  True, False, False,\n",
       "       False, False, False, False, False, False, False, False, False,\n",
       "       False, False, False, False, False, False, False, False, False,\n",
       "       False])"
      ]
     },
     "execution_count": 7,
     "metadata": {},
     "output_type": "execute_result"
    }
   ],
   "source": [
    "#one hot encoded data\n",
    "y[0]"
   ]
  },
  {
   "cell_type": "code",
   "execution_count": 8,
   "metadata": {
    "colab": {
     "base_uri": "https://localhost:8080/"
    },
    "id": "mlweMpDtKz3a",
    "outputId": "f3315b6a-900e-4c79-ae49-fcd22a7f838e"
   },
   "outputs": [
    {
     "data": {
      "text/plain": [
       "(193950, 40, 73)"
      ]
     },
     "execution_count": 8,
     "metadata": {},
     "output_type": "execute_result"
    }
   ],
   "source": [
    "X.shape"
   ]
  },
  {
   "cell_type": "code",
   "execution_count": 9,
   "metadata": {
    "colab": {
     "base_uri": "https://localhost:8080/"
    },
    "id": "JMdpGRBcK2Gp",
    "outputId": "3832b4e7-70aa-4a79-bd52-16246d3d01dc"
   },
   "outputs": [
    {
     "data": {
      "text/plain": [
       "(193950, 73)"
      ]
     },
     "execution_count": 9,
     "metadata": {},
     "output_type": "execute_result"
    }
   ],
   "source": [
    "y.shape"
   ]
  },
  {
   "cell_type": "code",
   "execution_count": 10,
   "metadata": {
    "id": "H1cZBLbIK4Gu"
   },
   "outputs": [],
   "source": [
    "# Creating the model\n",
    "model = Sequential()\n",
    "model.add(LSTM(128, input_shape=(seq_len, len(character))))\n",
    "model.add(Dense(len(character)))\n",
    "model.add(Activation('softmax'))"
   ]
  },
  {
   "cell_type": "code",
   "execution_count": 11,
   "metadata": {
    "colab": {
     "base_uri": "https://localhost:8080/",
     "height": 694
    },
    "id": "4cNhwgjgK6lg",
    "outputId": "baa5451b-c466-4955-8303-84b4272c9b11"
   },
   "outputs": [
    {
     "name": "stdout",
     "output_type": "stream",
     "text": [
      "Model: \"sequential\"\n",
      "_________________________________________________________________\n",
      " Layer (type)                Output Shape              Param #   \n",
      "=================================================================\n",
      " lstm (LSTM)                 (None, 128)               103424    \n",
      "                                                                 \n",
      " dense (Dense)               (None, 73)                9417      \n",
      "                                                                 \n",
      " activation (Activation)     (None, 73)                0         \n",
      "                                                                 \n",
      "=================================================================\n",
      "Total params: 112,841\n",
      "Trainable params: 112,841\n",
      "Non-trainable params: 0\n",
      "_________________________________________________________________\n"
     ]
    }
   ],
   "source": [
    "model.summary()\n"
   ]
  },
  {
   "cell_type": "code",
   "execution_count": 12,
   "metadata": {
    "colab": {
     "base_uri": "https://localhost:8080/"
    },
    "id": "hCVujNNBK8ha",
    "outputId": "ed8fed2f-0fc1-4986-8087-a023059d3a5d"
   },
   "outputs": [
    {
     "name": "stdout",
     "output_type": "stream",
     "text": [
      "Epoch 1/30\n",
      "1501/1501 [==============================] - 105s 69ms/step - loss: 1.9431 - accuracy: 0.4285 - val_loss: 2.1804 - val_accuracy: 0.4000\n",
      "Epoch 2/30\n",
      "1501/1501 [==============================] - 101s 68ms/step - loss: 1.6100 - accuracy: 0.5170 - val_loss: 2.0720 - val_accuracy: 0.4464\n",
      "Epoch 3/30\n",
      "1501/1501 [==============================] - 101s 68ms/step - loss: 1.5166 - accuracy: 0.5442 - val_loss: 2.0172 - val_accuracy: 0.4557\n",
      "Epoch 4/30\n",
      "1501/1501 [==============================] - 104s 69ms/step - loss: 1.4664 - accuracy: 0.5566 - val_loss: 2.0107 - val_accuracy: 0.4655\n",
      "Epoch 5/30\n",
      "1501/1501 [==============================] - 100s 66ms/step - loss: 1.4328 - accuracy: 0.5655 - val_loss: 1.9658 - val_accuracy: 0.4768\n",
      "Epoch 6/30\n",
      "1501/1501 [==============================] - 97s 65ms/step - loss: 1.4093 - accuracy: 0.5721 - val_loss: 2.0226 - val_accuracy: 0.4675\n",
      "Epoch 7/30\n",
      "1501/1501 [==============================] - 96s 64ms/step - loss: 1.3914 - accuracy: 0.5778 - val_loss: 2.0014 - val_accuracy: 0.4845\n",
      "Epoch 8/30\n",
      "1501/1501 [==============================] - 105s 70ms/step - loss: 1.3744 - accuracy: 0.5818 - val_loss: 2.0237 - val_accuracy: 0.4613\n",
      "Epoch 9/30\n",
      "1501/1501 [==============================] - 102s 68ms/step - loss: 1.3620 - accuracy: 0.5846 - val_loss: 1.9613 - val_accuracy: 0.4887\n",
      "Epoch 10/30\n",
      "1501/1501 [==============================] - 107s 71ms/step - loss: 1.3514 - accuracy: 0.5881 - val_loss: 1.9856 - val_accuracy: 0.4835\n",
      "Epoch 11/30\n",
      "1501/1501 [==============================] - 96s 64ms/step - loss: 1.3429 - accuracy: 0.5897 - val_loss: 1.9956 - val_accuracy: 0.4912\n",
      "Epoch 12/30\n",
      "1501/1501 [==============================] - 103s 68ms/step - loss: 1.3355 - accuracy: 0.5915 - val_loss: 1.9873 - val_accuracy: 0.4778\n",
      "Epoch 13/30\n",
      "1501/1501 [==============================] - 95s 63ms/step - loss: 1.3276 - accuracy: 0.5934 - val_loss: 2.0637 - val_accuracy: 0.4866\n",
      "Epoch 14/30\n",
      "1501/1501 [==============================] - 97s 65ms/step - loss: 1.3233 - accuracy: 0.5957 - val_loss: 2.0161 - val_accuracy: 0.4948\n",
      "Epoch 15/30\n",
      "1501/1501 [==============================] - 98s 66ms/step - loss: 1.3158 - accuracy: 0.5969 - val_loss: 2.0511 - val_accuracy: 0.4768\n",
      "Epoch 16/30\n",
      "1501/1501 [==============================] - 98s 65ms/step - loss: 1.3106 - accuracy: 0.5988 - val_loss: 2.0370 - val_accuracy: 0.4918\n",
      "Epoch 17/30\n",
      "1501/1501 [==============================] - 99s 66ms/step - loss: 1.3067 - accuracy: 0.5987 - val_loss: 2.0787 - val_accuracy: 0.4871\n",
      "Epoch 18/30\n",
      "1501/1501 [==============================] - 99s 66ms/step - loss: 1.3027 - accuracy: 0.6003 - val_loss: 2.0522 - val_accuracy: 0.4938\n",
      "Epoch 19/30\n",
      "1501/1501 [==============================] - 99s 66ms/step - loss: 1.2962 - accuracy: 0.6015 - val_loss: 2.0453 - val_accuracy: 0.4907\n",
      "Epoch 20/30\n",
      "1501/1501 [==============================] - 125s 83ms/step - loss: 1.2932 - accuracy: 0.6018 - val_loss: 2.1233 - val_accuracy: 0.4851\n",
      "Epoch 21/30\n",
      "1501/1501 [==============================] - 107s 71ms/step - loss: 1.2878 - accuracy: 0.6047 - val_loss: 2.1246 - val_accuracy: 0.4655\n",
      "Epoch 22/30\n",
      "1501/1501 [==============================] - 108s 72ms/step - loss: 1.2832 - accuracy: 0.6056 - val_loss: 2.0712 - val_accuracy: 0.4830\n",
      "Epoch 23/30\n",
      "1501/1501 [==============================] - 130s 86ms/step - loss: 1.2828 - accuracy: 0.6056 - val_loss: 2.0525 - val_accuracy: 0.4866\n",
      "Epoch 24/30\n",
      "1501/1501 [==============================] - 131s 87ms/step - loss: 1.2782 - accuracy: 0.6063 - val_loss: 2.0722 - val_accuracy: 0.4861\n",
      "Epoch 25/30\n",
      "1501/1501 [==============================] - 134s 89ms/step - loss: 1.2733 - accuracy: 0.6072 - val_loss: 2.0891 - val_accuracy: 0.4938\n",
      "Epoch 26/30\n",
      "1501/1501 [==============================] - 128s 85ms/step - loss: 1.2697 - accuracy: 0.6089 - val_loss: 2.0978 - val_accuracy: 0.4856\n",
      "Epoch 27/30\n",
      "1501/1501 [==============================] - 126s 84ms/step - loss: 1.2661 - accuracy: 0.6107 - val_loss: 2.1462 - val_accuracy: 0.4706\n",
      "Epoch 28/30\n",
      "1501/1501 [==============================] - 129s 86ms/step - loss: 1.2651 - accuracy: 0.6100 - val_loss: 2.0715 - val_accuracy: 0.4964\n",
      "Epoch 29/30\n",
      "1501/1501 [==============================] - 126s 84ms/step - loss: 1.2623 - accuracy: 0.6096 - val_loss: 2.0776 - val_accuracy: 0.4985\n",
      "Epoch 30/30\n",
      "1501/1501 [==============================] - 130s 87ms/step - loss: 1.2587 - accuracy: 0.6113 - val_loss: 2.1289 - val_accuracy: 0.4892\n"
     ]
    }
   ],
   "source": [
    "# Training our model\n",
    "optimizer = RMSprop(learning_rate=0.01)\n",
    "model.compile(loss='categorical_crossentropy', optimizer=optimizer, metrics=['accuracy'])\n",
    "history = model.fit(X, y,validation_split=0.01, batch_size=128,epochs=30, shuffle=True).history"
   ]
  },
  {
   "cell_type": "code",
   "execution_count": 13,
   "metadata": {
    "id": "e_ynLnWILBCJ"
   },
   "outputs": [],
   "source": [
    "#saving our model\n",
    "model.save('keras_model.h5')\n",
    "pickle.dump(history, open(\"history.p\", \"wb\"))"
   ]
  },
  {
   "cell_type": "code",
   "execution_count": 14,
   "metadata": {
    "id": "C0Bp_9b0LEjR"
   },
   "outputs": [],
   "source": [
    "#loading our model\n",
    "model = load_model('keras_model.h5')\n",
    "history = pickle.load(open(\"history.p\", \"rb\"))"
   ]
  },
  {
   "cell_type": "code",
   "execution_count": 15,
   "metadata": {
    "colab": {
     "base_uri": "https://localhost:8080/"
    },
    "id": "78UEYi7oLgj6",
    "outputId": "0d02c68e-9334-49b6-c57c-a9cb0d9425a1"
   },
   "outputs": [
    {
     "name": "stdout",
     "output_type": "stream",
     "text": [
      "6061/6061 [==============================] - 96s 16ms/step - loss: 1.2227 - accuracy: 0.6227\n",
      "Test Loss 1.2227150201797485\n",
      "Test Accuracy 0.6227481365203857\n"
     ]
    }
   ],
   "source": [
    "#Model Evaluation\n",
    "loss_and_acc=model.evaluate(X,y)\n",
    "print(\"Test Loss\", loss_and_acc[0])\n",
    "print(\"Test Accuracy\", loss_and_acc[1])"
   ]
  },
  {
   "cell_type": "code",
   "execution_count": 16,
   "metadata": {
    "colab": {
     "base_uri": "https://localhost:8080/",
     "height": 234
    },
    "id": "ZFRh-dNiLkPR",
    "outputId": "7d46a8b1-6073-45bd-dd9a-586c4c91da53"
   },
   "outputs": [
    {
     "data": {
      "image/png": "[encoded data removed]",
      "text/plain": [
       "<Figure size 1440x432 with 2 Axes>"
      ]
     },
     "metadata": {
      "needs_background": "light"
     },
     "output_type": "display_data"
    }
   ],
   "source": [
    "acc = history['accuracy']\n",
    "val_acc = history['val_accuracy']\n",
    "loss = history['loss']\n",
    "val_loss = history['val_loss']\n",
    "epochs = range(len(acc))\n",
    "\n",
    "\n",
    "\n",
    "fig, ax = plt.subplots(nrows=1, ncols=2, figsize=(20, 6))\n",
    "ax[0].plot(epochs, acc, 'r', label='Training accuracy')\n",
    "ax[0].plot(epochs, val_acc, 'b', label='Validation accuracy')\n",
    "ax[0].legend(loc=0)\n",
    "ax[1].plot(epochs, loss, 'r', label='Training loss')\n",
    "ax[1].plot(epochs, val_loss, 'b', label='Validation loss')\n",
    "ax[1].legend(loc=0)\n",
    "\n",
    "plt.suptitle('Training and validation')\n",
    "plt.show()"
   ]
  },
  {
   "cell_type": "code",
   "execution_count": 17,
   "metadata": {
    "id": "0Vv8f8hALmMI"
   },
   "outputs": [
    {
     "data": {
      "text/plain": [
       "array([[[0., 0., 0., ..., 0., 0., 0.],\n",
       "        [0., 0., 0., ..., 0., 0., 0.],\n",
       "        [0., 0., 0., ..., 0., 0., 0.],\n",
       "        ...,\n",
       "        [0., 0., 0., ..., 0., 0., 0.],\n",
       "        [0., 0., 0., ..., 0., 0., 0.],\n",
       "        [0., 0., 0., ..., 0., 0., 0.]]])"
      ]
     },
     "execution_count": 17,
     "metadata": {},
     "output_type": "execute_result"
    }
   ],
   "source": [
    "def prepare_input(text):\n",
    "    x = np.zeros((1, seq_len, len(character)))\n",
    "    for t, char in enumerate(text):\n",
    "        x[0, t, char_indices[char]] = 1.\n",
    "        \n",
    "    return x\n",
    "\n",
    "prepare_input(\"This is an example of input of our model\".lower())"
   ]
  },
  {
   "cell_type": "code",
   "execution_count": 18,
   "metadata": {
    "id": "HVvDE90ALnit"
   },
   "outputs": [],
   "source": [
    "#functions to get next probable characters\n",
    "def sample(preds, top_n=3):\n",
    "    preds = np.asarray(preds).astype('float64')\n",
    "    preds = np.log(preds)\n",
    "    exp_preds = np.exp(preds)\n",
    "    preds = exp_preds / np.sum(exp_preds)\n",
    "    \n",
    "    return heapq.nlargest(top_n, range(len(preds)), preds.take)"
   ]
  },
  {
   "cell_type": "code",
   "execution_count": 19,
   "metadata": {
    "id": "kjgq7ITcLtbF"
   },
   "outputs": [],
   "source": [
    "def predict_completion(text):\n",
    "    original_text = text\n",
    "    generated = text\n",
    "    completion = ''\n",
    "    while True:\n",
    "        x = prepare_input(text)\n",
    "        preds = model.predict(x, verbose=0)[0]\n",
    "        next_index = sample(preds, top_n=1)[0]\n",
    "        next_char = indices_char[next_index]\n",
    "        text = text[1:] + next_char\n",
    "        completion += next_char\n",
    "        \n",
    "        if len(original_text + completion) + 2 > len(original_text) and next_char == ' ':\n",
    "            return completion"
   ]
  },
  {
   "cell_type": "code",
   "execution_count": 20,
   "metadata": {
    "id": "CDkk2u2kLvL0"
   },
   "outputs": [],
   "source": [
    "def predict_completions(text, n=3):\n",
    "    x = prepare_input(text)\n",
    "    preds = model.predict(x, verbose=0)[0]\n",
    "    next_indices = sample(preds, n)\n",
    "    return [indices_char[idx] + predict_completion(text[1:] + indices_char[idx]) for idx in next_indices]"
   ]
  },
  {
   "cell_type": "code",
   "execution_count": 31,
   "metadata": {
    "id": "OfUFd-ErLwxl"
   },
   "outputs": [],
   "source": [
    "#Prediction\n",
    "quotes = [ \"It is the seventh-largest country by area, the second-most populous country, and the most populous democracy in the world\",\n",
    "         \"Bounded by the Indian Ocean on the south, the Arabian Sea on the southwest, and the Bay of Bengal on the southeast.\",\n",
    "          \"it shares land borders with Pakistan to the west;[f] China, Nepal, and Bhutan to the north; and Bangladesh and Myanmar to the east.\",\n",
    "         \"In the Indian Ocean, India is in the vicinity of Sri Lanka and the Maldives\"\n",
    "         ]"
   ]
  },
  {
   "cell_type": "code",
   "execution_count": 32,
   "metadata": {
    "colab": {
     "base_uri": "https://localhost:8080/"
    },
    "id": "_likvI6pLzka",
    "outputId": "772b1fd3-5fbf-423f-c2c9-1ab9f2f38eb2"
   },
   "outputs": [
    {
     "name": "stdout",
     "output_type": "stream",
     "text": [
      "it is the seventh-largest country by are\n",
      "[' the ', '\\nthe ', ', ', '. ']\n",
      "\n",
      "bounded by the indian ocean on the south\n",
      "[', ', '. ', ' of ', '-contrance ']\n",
      "\n",
      "it shares land borders with pakistan to \n",
      "['the ', 'me ', 'have ', 'be ']\n",
      "\n",
      "in the indian ocean, india is in the vic\n",
      "['tion ', 'kers ', 'ues ', 'lest ']\n",
      "\n"
     ]
    }
   ],
   "source": [
    "for q in quotes:\n",
    "    seq = q[:40].lower()\n",
    "    print(seq)\n",
    "    print(predict_completions(seq, 4))\n",
    "    print()"
   ]
  },
  {
   "cell_type": "markdown",
   "metadata": {
    "id": "h_zJeRBHL1Pu"
   },
   "source": [
    "# <center>THE END</center>"
   ]
  }
 ],
 "metadata": {
  "accelerator": "TPU",
  "colab": {
   "collapsed_sections": [],
   "name": "Next Word Prediction",
   "provenance": []
  },
  "kernelspec": {
   "display_name": "Python 3 (ipykernel)",
   "language": "python",
   "name": "python3"
  },
  "language_info": {
   "codemirror_mode": {
    "name": "ipython",
    "version": 3
   },
   "file_extension": ".py",
   "mimetype": "text/x-python",
   "name": "python",
   "nbconvert_exporter": "python",
   "pygments_lexer": "ipython3",
   "version": "3.9.7"
  }
 },
 "nbformat": 4,
 "nbformat_minor": 1
}
