{
 "cells": [
  {
   "cell_type": "markdown",
   "metadata": {},
   "source": [
    "# TASK 7- Develop A Neural Network That Can Read Handwriting"
   ]
  },
  {
   "cell_type": "markdown",
   "metadata": {
    "id": "2ag5-vOMfCxi"
   },
   "source": [
    "# Importing the required libraries"
   ]
  },
  {
   "cell_type": "code",
   "execution_count": 1,
   "metadata": {
    "executionInfo": {
     "elapsed": 6610,
     "status": "ok",
     "timestamp": 1616915504930,
     "user": {
      "displayName": "Kanav Bansal",
      "photoUrl": "",
      "userId": "10896660143086870372"
     },
     "user_tz": -330
    },
    "id": "GOdD67p9eiEV"
   },
   "outputs": [],
   "source": [
    "import numpy as np\n",
    "import pandas as pd\n",
    "import matplotlib.pyplot as plt\n",
    "import seaborn as sns\n",
    "import warnings \n",
    "warnings.filterwarnings('ignore')"
   ]
  },
  {
   "cell_type": "code",
   "execution_count": 2,
   "metadata": {
    "colab": {
     "base_uri": "https://localhost:8080/"
    },
    "executionInfo": {
     "elapsed": 5959,
     "status": "ok",
     "timestamp": 1616915504935,
     "user": {
      "displayName": "Kanav Bansal",
      "photoUrl": "",
      "userId": "10896660143086870372"
     },
     "user_tz": -330
    },
    "id": "OW6QtnCyfCKI",
    "outputId": "37c884a3-fe6a-4431-acd8-d46179e7b86f"
   },
   "outputs": [
    {
     "name": "stdout",
     "output_type": "stream",
     "text": [
      "2.8.0\n",
      "2.8.0\n"
     ]
    }
   ],
   "source": [
    "import tensorflow as tf\n",
    "from tensorflow import keras\n",
    "print(tf.__version__)\n",
    "print(keras.__version__)"
   ]
  },
  {
   "cell_type": "code",
   "execution_count": 3,
   "metadata": {
    "executionInfo": {
     "elapsed": 5381,
     "status": "ok",
     "timestamp": 1616915504939,
     "user": {
      "displayName": "Kanav Bansal",
      "photoUrl": "",
      "userId": "10896660143086870372"
     },
     "user_tz": -330
    },
    "id": "2AroiaEafP_Q"
   },
   "outputs": [],
   "source": [
    "from keras.utils import np_utils\n",
    "from keras.models import Sequential \n",
    "from keras.layers import Dense, Dropout, BatchNormalization\n",
    "from keras.layers import Conv2D, MaxPooling2D, Flatten"
   ]
  },
  {
   "cell_type": "code",
   "execution_count": 4,
   "metadata": {
    "executionInfo": {
     "elapsed": 4809,
     "status": "ok",
     "timestamp": 1616915504941,
     "user": {
      "displayName": "Kanav Bansal",
      "photoUrl": "",
      "userId": "10896660143086870372"
     },
     "user_tz": -330
    },
    "id": "gV3wX3msfSTM"
   },
   "outputs": [],
   "source": [
    "from keras.datasets import mnist"
   ]
  },
  {
   "cell_type": "markdown",
   "metadata": {
    "id": "O1bj_XFpfcm6"
   },
   "source": [
    "# Load the Data"
   ]
  },
  {
   "cell_type": "code",
   "execution_count": 5,
   "metadata": {
    "executionInfo": {
     "elapsed": 4200,
     "status": "ok",
     "timestamp": 1616915504942,
     "user": {
      "displayName": "Kanav Bansal",
      "photoUrl": "",
      "userId": "10896660143086870372"
     },
     "user_tz": -330
    },
    "id": "LC9UkQXefUj4"
   },
   "outputs": [],
   "source": [
    "(X_train, y_train), (X_test, y_test) = mnist.load_data()"
   ]
  },
  {
   "cell_type": "code",
   "execution_count": 6,
   "metadata": {
    "colab": {
     "base_uri": "https://localhost:8080/"
    },
    "executionInfo": {
     "elapsed": 3782,
     "status": "ok",
     "timestamp": 1616915504943,
     "user": {
      "displayName": "Kanav Bansal",
      "photoUrl": "",
      "userId": "10896660143086870372"
     },
     "user_tz": -330
    },
    "id": "yylIphOCfhdt",
    "outputId": "522543bd-2480-426b-a6ff-816801f0e9dd"
   },
   "outputs": [
    {
     "data": {
      "text/plain": [
       "(60000, 28, 28)"
      ]
     },
     "execution_count": 6,
     "metadata": {},
     "output_type": "execute_result"
    }
   ],
   "source": [
    "X_train.shape"
   ]
  },
  {
   "cell_type": "code",
   "execution_count": 7,
   "metadata": {
    "colab": {
     "base_uri": "https://localhost:8080/",
     "height": 646
    },
    "executionInfo": {
     "elapsed": 5149,
     "status": "ok",
     "timestamp": 1616915507009,
     "user": {
      "displayName": "Kanav Bansal",
      "photoUrl": "",
      "userId": "10896660143086870372"
     },
     "user_tz": -330
    },
    "id": "2etQJqZDOMjt",
    "outputId": "f4534fc5-0f64-4878-ecd1-1d0592328282"
   },
   "outputs": [
    {
     "data": {
      "image/png": "[encoded data removed]",
      "text/plain": [
       "<Figure size 864x864 with 9 Axes>"
      ]
     },
     "metadata": {
      "needs_background": "light"
     },
     "output_type": "display_data"
    }
   ],
   "source": [
    "plt.figure(figsize=(12, 12))\n",
    "np.random.seed(0)\n",
    "idx = np.random.randint(0, 60000, 9)\n",
    "\n",
    "for i in range(len(idx)):\n",
    "    plt.subplot(3, 3, i+1)\n",
    "    plt.title(y_train[idx[i]])\n",
    "    grid_data = np.reshape(X_train[idx[i]], (28,28))\n",
    "    plt.imshow(grid_data, cmap='gray')"
   ]
  },
  {
   "cell_type": "markdown",
   "metadata": {
    "id": "eMJs7-s2fr8H"
   },
   "source": [
    "# Data Preprocessing"
   ]
  },
  {
   "cell_type": "code",
   "execution_count": 8,
   "metadata": {
    "executionInfo": {
     "elapsed": 4439,
     "status": "ok",
     "timestamp": 1616915507024,
     "user": {
      "displayName": "Kanav Bansal",
      "photoUrl": "",
      "userId": "10896660143086870372"
     },
     "user_tz": -330
    },
    "id": "WEUwHOLRfkgM"
   },
   "outputs": [],
   "source": [
    "X_train = X_train.astype('float32')\n",
    "X_test = X_test.astype('float32')\n",
    "X_train = X_train/255\n",
    "X_test = X_test/255\n",
    "X_train = X_train.reshape(60000, 28, 28, 1)\n",
    "X_test = X_test.reshape(10000, 28, 28, 1)"
   ]
  },
  {
   "cell_type": "code",
   "execution_count": 9,
   "metadata": {
    "colab": {
     "base_uri": "https://localhost:8080/"
    },
    "executionInfo": {
     "elapsed": 4027,
     "status": "ok",
     "timestamp": 1616915507025,
     "user": {
      "displayName": "Kanav Bansal",
      "photoUrl": "",
      "userId": "10896660143086870372"
     },
     "user_tz": -330
    },
    "id": "v6C2JJCMfo_H",
    "outputId": "5ce63e85-564d-4b14-b212-437cf27bcb4b"
   },
   "outputs": [
    {
     "name": "stdout",
     "output_type": "stream",
     "text": [
      "Class label of first image : 5\n",
      "After converting the output into a vector :  [0. 0. 0. 0. 0. 1. 0. 0. 0. 0.]\n"
     ]
    }
   ],
   "source": [
    "print(\"Class label of first image :\", y_train[0])\n",
    "Y_train = np_utils.to_categorical(y_train, 10) \n",
    "Y_test = np_utils.to_categorical(y_test, 10)\n",
    "print(\"After converting the output into a vector : \",Y_train[0])"
   ]
  },
  {
   "cell_type": "markdown",
   "metadata": {
    "id": "2BKs_8lFf1-5"
   },
   "source": [
    "# Building the Model"
   ]
  },
  {
   "cell_type": "code",
   "execution_count": 10,
   "metadata": {
    "colab": {
     "background_save": true,
     "base_uri": "https://localhost:8080/"
    },
    "executionInfo": {
     "elapsed": 43132,
     "status": "ok",
     "timestamp": 1616915547173,
     "user": {
      "displayName": "Kanav Bansal",
      "photoUrl": "",
      "userId": "10896660143086870372"
     },
     "user_tz": -330
    },
    "id": "nz8JFHkvf1aP"
   },
   "outputs": [
    {
     "name": "stdout",
     "output_type": "stream",
     "text": [
      "Epoch 1/10\n",
      "469/469 [==============================] - 98s 209ms/step - loss: 0.2131 - accuracy: 0.9347\n",
      "Epoch 2/10\n",
      "469/469 [==============================] - 86s 182ms/step - loss: 0.0869 - accuracy: 0.9748\n",
      "Epoch 3/10\n",
      "469/469 [==============================] - 98s 209ms/step - loss: 0.0631 - accuracy: 0.9806\n",
      "Epoch 4/10\n",
      "469/469 [==============================] - 104s 221ms/step - loss: 0.0512 - accuracy: 0.9842\n",
      "Epoch 5/10\n",
      "469/469 [==============================] - 106s 225ms/step - loss: 0.0447 - accuracy: 0.9858\n",
      "Epoch 6/10\n",
      "469/469 [==============================] - 86s 184ms/step - loss: 0.0402 - accuracy: 0.9867\n",
      "Epoch 7/10\n",
      "469/469 [==============================] - 88s 188ms/step - loss: 0.0358 - accuracy: 0.9890\n",
      "Epoch 8/10\n",
      "469/469 [==============================] - 88s 187ms/step - loss: 0.0310 - accuracy: 0.9901\n",
      "Epoch 9/10\n",
      "469/469 [==============================] - 88s 187ms/step - loss: 0.0275 - accuracy: 0.9912\n",
      "Epoch 10/10\n",
      "469/469 [==============================] - 89s 189ms/step - loss: 0.0274 - accuracy: 0.9912\n"
     ]
    },
    {
     "data": {
      "text/plain": [
       "<keras.callbacks.History at 0x2874df63c10>"
      ]
     },
     "execution_count": 10,
     "metadata": {},
     "output_type": "execute_result"
    }
   ],
   "source": [
    "model = None\n",
    "model = Sequential()\n",
    "model.add(Conv2D(32, kernel_size=(3, 3), padding='same', input_shape=(28, 28, 1), activation='relu', kernel_initializer='he_normal'))\n",
    "model.add(Conv2D(64, (3, 3), activation='relu', kernel_initializer='he_normal'))\n",
    "model.add(MaxPooling2D(pool_size=(2, 2)))\n",
    "model.add(Dropout(0.25))\n",
    "model.add(Flatten())\n",
    "model.add(Dense(128, activation='relu', kernel_initializer='he_normal'))\n",
    "model.add(Dropout(0.5))\n",
    "model.add(Dense(10, activation='softmax'))\n",
    "model.compile(optimizer='adam', loss='categorical_crossentropy', metrics=['accuracy'])\n",
    "model.fit(X_train, Y_train, batch_size=128, epochs=10)"
   ]
  },
  {
   "cell_type": "code",
   "execution_count": 11,
   "metadata": {
    "colab": {
     "base_uri": "https://localhost:8080/"
    },
    "executionInfo": {
     "elapsed": 1732,
     "status": "ok",
     "timestamp": 1616915586629,
     "user": {
      "displayName": "Kanav Bansal",
      "photoUrl": "",
      "userId": "10896660143086870372"
     },
     "user_tz": -330
    },
    "id": "4G1lQBKifxTB",
    "outputId": "8a671d7e-51fb-49c3-b67b-ce9a06ffd19c"
   },
   "outputs": [
    {
     "name": "stdout",
     "output_type": "stream",
     "text": [
      "Test Loss and Test Accuracy [0.026591680943965912, 0.9922999739646912]\n"
     ]
    }
   ],
   "source": [
    "prediction_score = model.evaluate(X_test, Y_test, verbose=0)\n",
    "print('Test Loss and Test Accuracy', prediction_score)"
   ]
  },
  {
   "cell_type": "code",
   "execution_count": 12,
   "metadata": {
    "executionInfo": {
     "elapsed": 997,
     "status": "ok",
     "timestamp": 1616915621599,
     "user": {
      "displayName": "Kanav Bansal",
      "photoUrl": "",
      "userId": "10896660143086870372"
     },
     "user_tz": -330
    },
    "id": "IjEgppYiXnaY"
   },
   "outputs": [],
   "source": [
    "from keras.preprocessing import image"
   ]
  },
  {
   "cell_type": "code",
   "execution_count": 13,
   "metadata": {
    "colab": {
     "base_uri": "https://localhost:8080/",
     "height": 283
    },
    "executionInfo": {
     "elapsed": 1037,
     "status": "ok",
     "timestamp": 1616915653568,
     "user": {
      "displayName": "Kanav Bansal",
      "photoUrl": "",
      "userId": "10896660143086870372"
     },
     "user_tz": -330
    },
    "id": "Rtdsx5HWXxAj",
    "outputId": "37af9779-8930-4bab-fa07-6cfa2bdc9ebd"
   },
   "outputs": [
    {
     "data": {
      "text/plain": [
       "<matplotlib.image.AxesImage at 0x2874eb22a00>"
      ]
     },
     "execution_count": 13,
     "metadata": {},
     "output_type": "execute_result"
    },
    {
     "data": {
      "image/png": "[encoded data removed]",
      "text/plain": [
       "<Figure size 432x288 with 1 Axes>"
      ]
     },
     "metadata": {
      "needs_background": "light"
     },
     "output_type": "display_data"
    }
   ],
   "source": [
    "plt.imshow(image.array_to_img(X_test[46]), cmap=\"gray\")"
   ]
  },
  {
   "cell_type": "code",
   "execution_count": 14,
   "metadata": {
    "colab": {
     "base_uri": "https://localhost:8080/"
    },
    "executionInfo": {
     "elapsed": 922,
     "status": "ok",
     "timestamp": 1616915663932,
     "user": {
      "displayName": "Kanav Bansal",
      "photoUrl": "",
      "userId": "10896660143086870372"
     },
     "user_tz": -330
    },
    "id": "8pHoyL4mXxDc",
    "outputId": "2a7a71c0-57f9-4ae6-c035-da3fc7f368a6"
   },
   "outputs": [
    {
     "data": {
      "text/plain": [
       "1"
      ]
     },
     "execution_count": 14,
     "metadata": {},
     "output_type": "execute_result"
    }
   ],
   "source": [
    "y_test[46]"
   ]
  },
  {
   "cell_type": "code",
   "execution_count": 25,
   "metadata": {},
   "outputs": [
    {
     "name": "stdout",
     "output_type": "stream",
     "text": [
      "Predicted Value:  7\n",
      "Successful prediction\n"
     ]
    },
    {
     "data": {
      "image/png": "[encoded data removed]",
      "text/plain": [
       "<Figure size 432x288 with 1 Axes>"
      ]
     },
     "metadata": {
      "needs_background": "light"
     },
     "output_type": "display_data"
    }
   ],
   "source": [
    "# Testing the Model\n",
    "plt.imshow(X_test[0],cmap='gray_r')\n",
    "plt.title('Actual Value: {}'.format(Y_test[0]))\n",
    "prediction=model.predict(X_test)\n",
    "\n",
    "plt.axis('off')\n",
    "print('Predicted Value: ',np.argmax(prediction[0]))\n",
    "if(y_test[0]==(np.argmax(prediction[0]))):\n",
    "  print('Successful prediction')\n",
    "else:\n",
    "  print('Unsuccessful prediction')"
   ]
  },
  {
   "cell_type": "markdown",
   "metadata": {},
   "source": [
    "# <center>THE END</center>"
   ]
  }
 ],
 "metadata": {
  "accelerator": "GPU",
  "colab": {
   "authorship_tag": "ABX9TyMPu1VI0ddi+J1f+o+AGv12",
   "collapsed_sections": [],
   "name": "CNN_MNIST.ipynb",
   "toc_visible": true,
   "version": ""
  },
  "kernelspec": {
   "display_name": "Python 3 (ipykernel)",
   "language": "python",
   "name": "python3"
  },
  "language_info": {
   "codemirror_mode": {
    "name": "ipython",
    "version": 3
   },
   "file_extension": ".py",
   "mimetype": "text/x-python",
   "name": "python",
   "nbconvert_exporter": "python",
   "pygments_lexer": "ipython3",
   "version": "3.9.7"
  }
 },
 "nbformat": 4,
 "nbformat_minor": 1
}
